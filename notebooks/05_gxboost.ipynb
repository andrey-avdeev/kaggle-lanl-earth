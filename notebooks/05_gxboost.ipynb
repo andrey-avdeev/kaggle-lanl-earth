{
 "cells": [
  {
   "cell_type": "markdown",
   "metadata": {},
   "source": [
    "# LANL Earhquake prediction"
   ]
  },
  {
   "cell_type": "code",
   "execution_count": 1,
   "metadata": {},
   "outputs": [],
   "source": [
    "import os\n",
    "import sys\n",
    "module_path = os.path.abspath(os.path.join('..'))\n",
    "if module_path not in sys.path:\n",
    "    sys.path.append(module_path)"
   ]
  },
  {
   "cell_type": "code",
   "execution_count": 2,
   "metadata": {},
   "outputs": [],
   "source": [
    "import numpy as np\n",
    "import pandas as pd\n",
    "\n",
    "pd.options.display.float_format = '{:,.10f}'.format\n",
    "\n",
    "import warnings\n",
    "warnings.simplefilter(action='ignore', category=FutureWarning)\n",
    "warnings.simplefilter(action='ignore', category=UserWarning)\n",
    "warnings.simplefilter(action='ignore', category=RuntimeWarning)\n",
    "\n",
    "# Visualizations\n",
    "import seaborn as sns\n",
    "import matplotlib.pyplot as plt\n",
    "import plotly.graph_objs as go\n",
    "from plotly.offline import init_notebook_mode, iplot\n",
    "sns.set()"
   ]
  },
  {
   "cell_type": "code",
   "execution_count": 3,
   "metadata": {},
   "outputs": [],
   "source": [
    "FEATURES_BASE = '../data/processed/train/features_base.csv'\n",
    "FEATURES_BASE_DENOISE = '../data/processed/train/features_base_denoise.csv'\n",
    "FEATURES_FOLDS_DENOISE = '../data/processed/train/features_folds_denoise.csv'\n",
    "FEATURES_TSFRESH = '../data/processed/train/features_tsfresh.csv'"
   ]
  },
  {
   "cell_type": "code",
   "execution_count": 4,
   "metadata": {},
   "outputs": [],
   "source": [
    "features_base = pd.read_csv(FEATURES_BASE,index_col='id')\n",
    "features_base_denoise = pd.read_csv(FEATURES_BASE_DENOISE,index_col='id')\n",
    "features_folds_denoise = pd.read_csv(FEATURES_FOLDS_DENOISE,index_col='id')\n",
    "features_tsfresh = pd.read_csv(FEATURES_TSFRESH,index_col='id')"
   ]
  },
  {
   "cell_type": "code",
   "execution_count": 5,
   "metadata": {},
   "outputs": [
    {
     "data": {
      "text/html": [
       "<div>\n",
       "<style scoped>\n",
       "    .dataframe tbody tr th:only-of-type {\n",
       "        vertical-align: middle;\n",
       "    }\n",
       "\n",
       "    .dataframe tbody tr th {\n",
       "        vertical-align: top;\n",
       "    }\n",
       "\n",
       "    .dataframe thead th {\n",
       "        text-align: right;\n",
       "    }\n",
       "</style>\n",
       "<table border=\"1\" class=\"dataframe\">\n",
       "  <thead>\n",
       "    <tr style=\"text-align: right;\">\n",
       "      <th></th>\n",
       "      <th>x__abs_energy</th>\n",
       "      <th>x__absolute_sum_of_changes</th>\n",
       "      <th>x__agg_autocorrelation__f_agg_\"mean\"__maxlag_40</th>\n",
       "      <th>x__agg_autocorrelation__f_agg_\"median\"__maxlag_40</th>\n",
       "      <th>x__agg_autocorrelation__f_agg_\"var\"__maxlag_40</th>\n",
       "      <th>x__agg_linear_trend__f_agg_\"max\"__chunk_len_10__attr_\"intercept\"</th>\n",
       "      <th>x__agg_linear_trend__f_agg_\"max\"__chunk_len_10__attr_\"rvalue\"</th>\n",
       "      <th>x__agg_linear_trend__f_agg_\"max\"__chunk_len_10__attr_\"slope\"</th>\n",
       "      <th>x__agg_linear_trend__f_agg_\"max\"__chunk_len_10__attr_\"stderr\"</th>\n",
       "      <th>x__agg_linear_trend__f_agg_\"max\"__chunk_len_50__attr_\"intercept\"</th>\n",
       "      <th>...</th>\n",
       "      <th>x__symmetry_looking__r_0.9500000000000001</th>\n",
       "      <th>x__time_reversal_asymmetry_statistic__lag_1</th>\n",
       "      <th>x__time_reversal_asymmetry_statistic__lag_2</th>\n",
       "      <th>x__time_reversal_asymmetry_statistic__lag_3</th>\n",
       "      <th>x__value_count__value_-1</th>\n",
       "      <th>x__value_count__value_0</th>\n",
       "      <th>x__value_count__value_1</th>\n",
       "      <th>x__variance</th>\n",
       "      <th>x__variance_larger_than_standard_deviation</th>\n",
       "      <th>y</th>\n",
       "    </tr>\n",
       "    <tr>\n",
       "      <th>id</th>\n",
       "      <th></th>\n",
       "      <th></th>\n",
       "      <th></th>\n",
       "      <th></th>\n",
       "      <th></th>\n",
       "      <th></th>\n",
       "      <th></th>\n",
       "      <th></th>\n",
       "      <th></th>\n",
       "      <th></th>\n",
       "      <th></th>\n",
       "      <th></th>\n",
       "      <th></th>\n",
       "      <th></th>\n",
       "      <th></th>\n",
       "      <th></th>\n",
       "      <th></th>\n",
       "      <th></th>\n",
       "      <th></th>\n",
       "      <th></th>\n",
       "      <th></th>\n",
       "    </tr>\n",
       "  </thead>\n",
       "  <tbody>\n",
       "    <tr>\n",
       "      <th>0</th>\n",
       "      <td>10,247.0000000000</td>\n",
       "      <td>391,980.0000000000</td>\n",
       "      <td>-0.0196169172</td>\n",
       "      <td>-0.0292105689</td>\n",
       "      <td>0.0771727933</td>\n",
       "      <td>11.4728051641</td>\n",
       "      <td>-0.1604799308</td>\n",
       "      <td>-0.0001705898</td>\n",
       "      <td>0.0000085674</td>\n",
       "      <td>15.5494230812</td>\n",
       "      <td>...</td>\n",
       "      <td>1.0000000000</td>\n",
       "      <td>0.2592567901</td>\n",
       "      <td>3.8303954772</td>\n",
       "      <td>-4.1183647346</td>\n",
       "      <td>3,622.0000000000</td>\n",
       "      <td>5,741.0000000000</td>\n",
       "      <td>8,406.0000000000</td>\n",
       "      <td>26.0211102805</td>\n",
       "      <td>1.0000000000</td>\n",
       "      <td>1.4307971859</td>\n",
       "    </tr>\n",
       "    <tr>\n",
       "      <th>1</th>\n",
       "      <td>31,377.0000000000</td>\n",
       "      <td>405,226.0000000000</td>\n",
       "      <td>-0.0296423639</td>\n",
       "      <td>-0.0473553483</td>\n",
       "      <td>0.0950035692</td>\n",
       "      <td>10.8740597116</td>\n",
       "      <td>-0.0420251683</td>\n",
       "      <td>-0.0000653812</td>\n",
       "      <td>0.0000126924</td>\n",
       "      <td>14.9988208375</td>\n",
       "      <td>...</td>\n",
       "      <td>1.0000000000</td>\n",
       "      <td>-6.4017320231</td>\n",
       "      <td>-0.2259793594</td>\n",
       "      <td>2.8093990426</td>\n",
       "      <td>3,888.0000000000</td>\n",
       "      <td>5,853.0000000000</td>\n",
       "      <td>8,557.0000000000</td>\n",
       "      <td>43.4123094122</td>\n",
       "      <td>1.0000000000</td>\n",
       "      <td>1.3914988931</td>\n",
       "    </tr>\n",
       "  </tbody>\n",
       "</table>\n",
       "<p>2 rows × 789 columns</p>\n",
       "</div>"
      ],
      "text/plain": [
       "       x__abs_energy  x__absolute_sum_of_changes  \\\n",
       "id                                                 \n",
       "0  10,247.0000000000          391,980.0000000000   \n",
       "1  31,377.0000000000          405,226.0000000000   \n",
       "\n",
       "    x__agg_autocorrelation__f_agg_\"mean\"__maxlag_40  \\\n",
       "id                                                    \n",
       "0                                     -0.0196169172   \n",
       "1                                     -0.0296423639   \n",
       "\n",
       "    x__agg_autocorrelation__f_agg_\"median\"__maxlag_40  \\\n",
       "id                                                      \n",
       "0                                       -0.0292105689   \n",
       "1                                       -0.0473553483   \n",
       "\n",
       "    x__agg_autocorrelation__f_agg_\"var\"__maxlag_40  \\\n",
       "id                                                   \n",
       "0                                     0.0771727933   \n",
       "1                                     0.0950035692   \n",
       "\n",
       "    x__agg_linear_trend__f_agg_\"max\"__chunk_len_10__attr_\"intercept\"  \\\n",
       "id                                                                     \n",
       "0                                       11.4728051641                  \n",
       "1                                       10.8740597116                  \n",
       "\n",
       "    x__agg_linear_trend__f_agg_\"max\"__chunk_len_10__attr_\"rvalue\"  \\\n",
       "id                                                                  \n",
       "0                                       -0.1604799308               \n",
       "1                                       -0.0420251683               \n",
       "\n",
       "    x__agg_linear_trend__f_agg_\"max\"__chunk_len_10__attr_\"slope\"  \\\n",
       "id                                                                 \n",
       "0                                       -0.0001705898              \n",
       "1                                       -0.0000653812              \n",
       "\n",
       "    x__agg_linear_trend__f_agg_\"max\"__chunk_len_10__attr_\"stderr\"  \\\n",
       "id                                                                  \n",
       "0                                        0.0000085674               \n",
       "1                                        0.0000126924               \n",
       "\n",
       "    x__agg_linear_trend__f_agg_\"max\"__chunk_len_50__attr_\"intercept\"  \\\n",
       "id                                                                     \n",
       "0                                       15.5494230812                  \n",
       "1                                       14.9988208375                  \n",
       "\n",
       "       ...       x__symmetry_looking__r_0.9500000000000001  \\\n",
       "id     ...                                                   \n",
       "0      ...                                    1.0000000000   \n",
       "1      ...                                    1.0000000000   \n",
       "\n",
       "    x__time_reversal_asymmetry_statistic__lag_1  \\\n",
       "id                                                \n",
       "0                                  0.2592567901   \n",
       "1                                 -6.4017320231   \n",
       "\n",
       "    x__time_reversal_asymmetry_statistic__lag_2  \\\n",
       "id                                                \n",
       "0                                  3.8303954772   \n",
       "1                                 -0.2259793594   \n",
       "\n",
       "    x__time_reversal_asymmetry_statistic__lag_3  x__value_count__value_-1  \\\n",
       "id                                                                          \n",
       "0                                 -4.1183647346          3,622.0000000000   \n",
       "1                                  2.8093990426          3,888.0000000000   \n",
       "\n",
       "    x__value_count__value_0  x__value_count__value_1   x__variance  \\\n",
       "id                                                                   \n",
       "0          5,741.0000000000         8,406.0000000000 26.0211102805   \n",
       "1          5,853.0000000000         8,557.0000000000 43.4123094122   \n",
       "\n",
       "    x__variance_larger_than_standard_deviation            y  \n",
       "id                                                           \n",
       "0                                 1.0000000000 1.4307971859  \n",
       "1                                 1.0000000000 1.3914988931  \n",
       "\n",
       "[2 rows x 789 columns]"
      ]
     },
     "execution_count": 5,
     "metadata": {},
     "output_type": "execute_result"
    }
   ],
   "source": [
    "features_tsfresh.head(2)"
   ]
  },
  {
   "cell_type": "code",
   "execution_count": 6,
   "metadata": {},
   "outputs": [],
   "source": [
    "y_all = features_base['y']\n",
    "X_all = features_base.drop('y',axis=1).join(features_base_denoise.drop('y',axis=1),rsuffix='bd_').join(features_folds_denoise.drop('y',axis=1),rsuffix='fdd_').join(features_tsfresh.drop('y',axis=1),rsuffix='ts_')\n",
    "# X_all = features_folds_denoise.drop('y',axis=1).join(feature.drop('y',axis=1))\n",
    "# X_all = data_s.drop('y',axis=1)\n",
    "# X_all = data_d_f.drop('y',axis=1).join(data_s.drop('y',axis=1),rsuffix='s_').join(data_f.drop('y',axis=1),rsuffix='f_')\n",
    "# X_all = data_f.drop('y',axis=1).join(data_s.drop('y',axis=1),rsuffix='s_')"
   ]
  },
  {
   "cell_type": "code",
   "execution_count": 7,
   "metadata": {},
   "outputs": [
    {
     "name": "stdout",
     "output_type": "stream",
     "text": [
      "features_base.shape: (4194, 116)\n",
      "features_base_denoise.shape: (4194, 116)\n",
      "features_folds_denoise.shape: (4194, 1151)\n",
      "features_tsfresh.shape: (4194, 789)\n",
      "X_all.shape: (4194, 2168)\n"
     ]
    }
   ],
   "source": [
    "print('features_base.shape:',features_base.shape)\n",
    "print('features_base_denoise.shape:',features_base_denoise.shape)\n",
    "print('features_folds_denoise.shape:',features_folds_denoise.shape)\n",
    "print('features_tsfresh.shape:',features_tsfresh.shape)\n",
    "print('X_all.shape:',X_all.shape)"
   ]
  },
  {
   "cell_type": "markdown",
   "metadata": {},
   "source": [
    "## Cleaning from NaN,infinity or too large values"
   ]
  },
  {
   "cell_type": "code",
   "execution_count": 8,
   "metadata": {},
   "outputs": [],
   "source": [
    "if np.any(np.isnan(X_all)):\n",
    "    X_all.fillna(0,inplace=True)"
   ]
  },
  {
   "cell_type": "markdown",
   "metadata": {},
   "source": [
    "## Outer Cross-Validation split"
   ]
  },
  {
   "cell_type": "code",
   "execution_count": 9,
   "metadata": {},
   "outputs": [],
   "source": [
    "from sklearn.model_selection import train_test_split\n",
    "from src.config.common import RANDOM_STATE\n",
    "X, X_cross, y, y_cross = train_test_split(X_all, y_all, test_size=0.15, random_state=RANDOM_STATE)"
   ]
  },
  {
   "cell_type": "code",
   "execution_count": 10,
   "metadata": {},
   "outputs": [
    {
     "name": "stdout",
     "output_type": "stream",
     "text": [
      "before (3564, 2168)\n",
      "after (3564, 2076)\n"
     ]
    }
   ],
   "source": [
    "from sklearn.feature_selection import VarianceThreshold\n",
    "from sklearn.feature_selection import SelectKBest\n",
    "from sklearn.feature_selection import f_regression\n",
    "\n",
    "var_selector = VarianceThreshold().fit(X)\n",
    "print('before',X.shape)\n",
    "X = X[X.columns[var_selector.get_support(indices=True)]]\n",
    "print('after',X.shape)"
   ]
  },
  {
   "cell_type": "code",
   "execution_count": null,
   "metadata": {},
   "outputs": [],
   "source": [
    "kbest_selector = SelectKBest(f_regression, k=100)\n",
    "kbest_selector = kbest_selector.fit(X, y)\n",
    "print('before',X.shape)\n",
    "X = X[X.columns[kbest_selector.get_support(indices=True)]]\n",
    "print('after',X.shape)"
   ]
  },
  {
   "cell_type": "code",
   "execution_count": 11,
   "metadata": {},
   "outputs": [],
   "source": [
    "X_train, X_test, y_train, y_test = train_test_split(X, y, test_size=0.20, random_state=RANDOM_STATE)"
   ]
  },
  {
   "cell_type": "markdown",
   "metadata": {},
   "source": [
    "## Model"
   ]
  },
  {
   "cell_type": "code",
   "execution_count": 21,
   "metadata": {},
   "outputs": [],
   "source": [
    "import xgboost as xgb\n",
    "\n",
    "params = {\n",
    "    \"objective\":\"reg:linear\",\n",
    "    'colsample_bytree': 0.3,\n",
    "    'learning_rate': 0.1,\n",
    "    'max_depth': 9, \n",
    "    'alpha': 3,\n",
    "    'gpu_id':0,\n",
    "    'max_bin':32,\n",
    "    'tree_method':'gpu_hist',\n",
    "}"
   ]
  },
  {
   "cell_type": "code",
   "execution_count": 22,
   "metadata": {},
   "outputs": [],
   "source": [
    "dtrain = xgb.DMatrix(X, label=y)"
   ]
  },
  {
   "cell_type": "code",
   "execution_count": 23,
   "metadata": {},
   "outputs": [
    {
     "data": {
      "text/html": [
       "<div>\n",
       "<style scoped>\n",
       "    .dataframe tbody tr th:only-of-type {\n",
       "        vertical-align: middle;\n",
       "    }\n",
       "\n",
       "    .dataframe tbody tr th {\n",
       "        vertical-align: top;\n",
       "    }\n",
       "\n",
       "    .dataframe thead th {\n",
       "        text-align: right;\n",
       "    }\n",
       "</style>\n",
       "<table border=\"1\" class=\"dataframe\">\n",
       "  <thead>\n",
       "    <tr style=\"text-align: right;\">\n",
       "      <th></th>\n",
       "      <th>train-mae-mean</th>\n",
       "      <th>train-mae-std</th>\n",
       "      <th>test-mae-mean</th>\n",
       "      <th>test-mae-std</th>\n",
       "    </tr>\n",
       "  </thead>\n",
       "  <tbody>\n",
       "    <tr>\n",
       "      <th>0</th>\n",
       "      <td>4.7330963333</td>\n",
       "      <td>0.0261722890</td>\n",
       "      <td>4.7813140000</td>\n",
       "      <td>0.0636717274</td>\n",
       "    </tr>\n",
       "    <tr>\n",
       "      <th>1</th>\n",
       "      <td>4.3052666667</td>\n",
       "      <td>0.0269991135</td>\n",
       "      <td>4.3968666667</td>\n",
       "      <td>0.0720794120</td>\n",
       "    </tr>\n",
       "    <tr>\n",
       "      <th>2</th>\n",
       "      <td>3.9181510000</td>\n",
       "      <td>0.0251578879</td>\n",
       "      <td>4.0578040000</td>\n",
       "      <td>0.0838863066</td>\n",
       "    </tr>\n",
       "    <tr>\n",
       "      <th>3</th>\n",
       "      <td>3.5683346667</td>\n",
       "      <td>0.0265232677</td>\n",
       "      <td>3.7605590000</td>\n",
       "      <td>0.0930752768</td>\n",
       "    </tr>\n",
       "    <tr>\n",
       "      <th>4</th>\n",
       "      <td>3.2560313333</td>\n",
       "      <td>0.0248862940</td>\n",
       "      <td>3.5022263333</td>\n",
       "      <td>0.0981706518</td>\n",
       "    </tr>\n",
       "  </tbody>\n",
       "</table>\n",
       "</div>"
      ],
      "text/plain": [
       "   train-mae-mean  train-mae-std  test-mae-mean  test-mae-std\n",
       "0    4.7330963333   0.0261722890   4.7813140000  0.0636717274\n",
       "1    4.3052666667   0.0269991135   4.3968666667  0.0720794120\n",
       "2    3.9181510000   0.0251578879   4.0578040000  0.0838863066\n",
       "3    3.5683346667   0.0265232677   3.7605590000  0.0930752768\n",
       "4    3.2560313333   0.0248862940   3.5022263333  0.0981706518"
      ]
     },
     "execution_count": 23,
     "metadata": {},
     "output_type": "execute_result"
    }
   ],
   "source": [
    "cv_results = xgb.cv(dtrain=dtrain, \n",
    "                    params=params, \n",
    "                    nfold=3,\n",
    "                    num_boost_round=500,\n",
    "                    early_stopping_rounds=100,\n",
    "                    metrics=\"mae\", \n",
    "                    as_pandas=True, \n",
    "                    seed=42)\n",
    "cv_results.head()"
   ]
  },
  {
   "cell_type": "code",
   "execution_count": null,
   "metadata": {},
   "outputs": [],
   "source": []
  },
  {
   "cell_type": "code",
   "execution_count": 16,
   "metadata": {},
   "outputs": [
    {
     "name": "stdout",
     "output_type": "stream",
     "text": [
      "before (630, 2168)\n",
      "after (630, 2076)\n"
     ]
    }
   ],
   "source": [
    "print('before',X_cross.shape)\n",
    "X_cross = X_cross[X_cross.columns[var_selector.get_support(indices=True)]]\n",
    "print('after',X_cross.shape)"
   ]
  },
  {
   "cell_type": "code",
   "execution_count": 17,
   "metadata": {},
   "outputs": [
    {
     "name": "stdout",
     "output_type": "stream",
     "text": [
      "2.0733071282495583\n"
     ]
    }
   ],
   "source": [
    "from sklearn.metrics import mean_absolute_error\n",
    "prediction = model.predict(X_cross)\n",
    "mae = mean_absolute_error(y_cross, prediction)\n",
    "print(mae)"
   ]
  },
  {
   "cell_type": "code",
   "execution_count": 19,
   "metadata": {},
   "outputs": [],
   "source": [
    "model.save_model('catboost.cbm', \n",
    "           format=\"cbm\", \n",
    "           export_parameters=None,\n",
    "           pool=None)"
   ]
  },
  {
   "cell_type": "markdown",
   "metadata": {},
   "source": [
    "## Submission"
   ]
  },
  {
   "cell_type": "code",
   "execution_count": 20,
   "metadata": {},
   "outputs": [],
   "source": [
    "FEATURES_BASE = '../data/processed/test/features_base.csv'\n",
    "FEATURES_BASE_DENOISE = '../data/processed/test/features_base_denoise.csv'\n",
    "FEATURES_FOLDS_DENOISE = '../data/processed/test/features_folds_denoise.csv'\n",
    "FEATURES_TSFRESH = '../data/processed/test/features_tsfresh.csv'"
   ]
  },
  {
   "cell_type": "code",
   "execution_count": 21,
   "metadata": {},
   "outputs": [],
   "source": [
    "features_base = pd.read_csv(FEATURES_BASE,index_col='id')\n",
    "features_base_denoise = pd.read_csv(FEATURES_BASE_DENOISE,index_col='id')\n",
    "features_folds_denoise = pd.read_csv(FEATURES_FOLDS_DENOISE,index_col='id')\n",
    "features_tsfresh = pd.read_csv(FEATURES_TSFRESH,index_col='id')"
   ]
  },
  {
   "cell_type": "code",
   "execution_count": 22,
   "metadata": {},
   "outputs": [],
   "source": [
    "X_all = features_base.join(features_base_denoise,rsuffix='bd_').join(features_folds_denoise,rsuffix='fdd_').join(features_tsfresh,rsuffix='ts_')"
   ]
  },
  {
   "cell_type": "code",
   "execution_count": 23,
   "metadata": {},
   "outputs": [
    {
     "name": "stdout",
     "output_type": "stream",
     "text": [
      "features_base.shape: (2624, 115)\n",
      "features_base_denoise.shape: (2624, 115)\n",
      "features_folds_denoise.shape: (2624, 1150)\n",
      "features_tsfresh.shape: (2624, 788)\n",
      "X_all.shape: (2624, 2168)\n"
     ]
    }
   ],
   "source": [
    "print('features_base.shape:',features_base.shape)\n",
    "print('features_base_denoise.shape:',features_base_denoise.shape)\n",
    "print('features_folds_denoise.shape:',features_folds_denoise.shape)\n",
    "print('features_tsfresh.shape:',features_tsfresh.shape)\n",
    "print('X_all.shape:',X_all.shape)"
   ]
  },
  {
   "cell_type": "code",
   "execution_count": 25,
   "metadata": {},
   "outputs": [
    {
     "name": "stdout",
     "output_type": "stream",
     "text": [
      "before (3564, 2076)\n",
      "after (3564, 2076)\n"
     ]
    }
   ],
   "source": [
    "print('before',X.shape)\n",
    "X_all = X_all[X_all.columns[var_selector.get_support(indices=True)]]\n",
    "print('after',X.shape)"
   ]
  },
  {
   "cell_type": "code",
   "execution_count": 26,
   "metadata": {},
   "outputs": [],
   "source": [
    "predictions = model.predict(X_all)"
   ]
  },
  {
   "cell_type": "code",
   "execution_count": 39,
   "metadata": {},
   "outputs": [
    {
     "data": {
      "text/html": [
       "<div>\n",
       "<style scoped>\n",
       "    .dataframe tbody tr th:only-of-type {\n",
       "        vertical-align: middle;\n",
       "    }\n",
       "\n",
       "    .dataframe tbody tr th {\n",
       "        vertical-align: top;\n",
       "    }\n",
       "\n",
       "    .dataframe thead th {\n",
       "        text-align: right;\n",
       "    }\n",
       "</style>\n",
       "<table border=\"1\" class=\"dataframe\">\n",
       "  <thead>\n",
       "    <tr style=\"text-align: right;\">\n",
       "      <th></th>\n",
       "      <th>seg_id</th>\n",
       "      <th>time_to_failure</th>\n",
       "    </tr>\n",
       "  </thead>\n",
       "  <tbody>\n",
       "    <tr>\n",
       "      <th>0</th>\n",
       "      <td>seg_00030f</td>\n",
       "      <td>2.8105589490</td>\n",
       "    </tr>\n",
       "    <tr>\n",
       "      <th>1</th>\n",
       "      <td>seg_0012b5</td>\n",
       "      <td>4.7626902832</td>\n",
       "    </tr>\n",
       "  </tbody>\n",
       "</table>\n",
       "</div>"
      ],
      "text/plain": [
       "       seg_id  time_to_failure\n",
       "0  seg_00030f     2.8105589490\n",
       "1  seg_0012b5     4.7626902832"
      ]
     },
     "execution_count": 39,
     "metadata": {},
     "output_type": "execute_result"
    }
   ],
   "source": [
    "submission = pd.DataFrame()\n",
    "submission['seg_id'] = X_all.index.values\n",
    "submission['seg_id'] = submission['seg_id'].apply(lambda seg_id: 'seg_'+seg_id)\n",
    "submission['time_to_failure'] = predictions"
   ]
  },
  {
   "cell_type": "code",
   "execution_count": 40,
   "metadata": {},
   "outputs": [],
   "source": [
    "submission.to_csv('submission.csv',index=False)\n",
    "!kaggle competitions submit -f submission.csv -m catboost0.1 LANL-Earthquake-Prediction"
   ]
  }
 ],
 "metadata": {
  "kernelspec": {
   "display_name": "Python 3",
   "language": "python",
   "name": "python3"
  },
  "language_info": {
   "codemirror_mode": {
    "name": "ipython",
    "version": 3
   },
   "file_extension": ".py",
   "mimetype": "text/x-python",
   "name": "python",
   "nbconvert_exporter": "python",
   "pygments_lexer": "ipython3",
   "version": "3.6.4"
  }
 },
 "nbformat": 4,
 "nbformat_minor": 2
}
