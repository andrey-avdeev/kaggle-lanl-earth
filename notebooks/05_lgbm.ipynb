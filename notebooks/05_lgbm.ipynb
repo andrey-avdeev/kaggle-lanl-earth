{
 "cells": [
  {
   "cell_type": "markdown",
   "metadata": {},
   "source": [
    "# LANL Earhquake prediction"
   ]
  },
  {
   "cell_type": "code",
   "execution_count": 1,
   "metadata": {},
   "outputs": [],
   "source": [
    "import os\n",
    "import sys\n",
    "module_path = os.path.abspath(os.path.join('..'))\n",
    "if module_path not in sys.path:\n",
    "    sys.path.append(module_path)"
   ]
  },
  {
   "cell_type": "code",
   "execution_count": 2,
   "metadata": {},
   "outputs": [],
   "source": [
    "import numpy as np\n",
    "import pandas as pd\n",
    "\n",
    "pd.options.display.float_format = '{:,.10f}'.format\n",
    "\n",
    "import warnings\n",
    "warnings.simplefilter(action='ignore', category=FutureWarning)\n",
    "warnings.simplefilter(action='ignore', category=UserWarning)\n",
    "warnings.simplefilter(action='ignore', category=RuntimeWarning)\n",
    "\n",
    "# Visualizations\n",
    "import seaborn as sns\n",
    "import matplotlib.pyplot as plt\n",
    "import plotly.graph_objs as go\n",
    "from plotly.offline import init_notebook_mode, iplot\n",
    "sns.set()"
   ]
  },
  {
   "cell_type": "code",
   "execution_count": 3,
   "metadata": {},
   "outputs": [],
   "source": [
    "FEATURES_BASE = '../data/processed/train/features_base.csv'\n",
    "FEATURES_BASE_DENOISE = '../data/processed/train/features_base_denoise.csv'\n",
    "FEATURES_FOLDS_DENOISE = '../data/processed/train/features_folds_denoise.csv'\n",
    "FEATURES_TSFRESH = '../data/processed/train/features_tsfresh.csv'\n",
    "FEATURES_SIGNAL = '../data/processed/train/features_signal.csv'\n",
    "FEATURES_WAVELET = '../data/processed/train/features_wavelet.csv'"
   ]
  },
  {
   "cell_type": "code",
   "execution_count": 4,
   "metadata": {},
   "outputs": [
    {
     "name": "stdout",
     "output_type": "stream",
     "text": [
      "CPU times: user 2.59 s, sys: 111 ms, total: 2.7 s\n",
      "Wall time: 2.7 s\n"
     ]
    }
   ],
   "source": [
    "%%time\n",
    "features_base = pd.read_csv(FEATURES_BASE,index_col='id').add_prefix('b_')\n",
    "features_base_denoise = pd.read_csv(FEATURES_BASE_DENOISE,index_col='id').add_prefix('bd_')\n",
    "features_folds_denoise = pd.read_csv(FEATURES_FOLDS_DENOISE,index_col='id').add_prefix('fd_')\n",
    "features_tsfresh = pd.read_csv(FEATURES_TSFRESH,index_col='id').add_prefix('ts_')\n",
    "features_signal = pd.read_csv(FEATURES_SIGNAL,index_col='id').add_prefix('sg_')\n",
    "features_wavelet = pd.read_csv(FEATURES_WAVELET,index_col='id').add_prefix('wv_')"
   ]
  },
  {
   "cell_type": "code",
   "execution_count": 5,
   "metadata": {},
   "outputs": [],
   "source": [
    "y_all = features_base['b_y']\n",
    "df_all = features_base.join(features_base_denoise).join(features_folds_denoise).join(features_tsfresh).join(features_signal).join(features_wavelet)\n",
    "df = df_all.drop(['bd_y','fd_y','ts_y','sg_y','wv_y'],axis=1)\n",
    "X_all = df_all.drop(['b_y','bd_y','fd_y','ts_y','sg_y','wv_y'],axis=1)"
   ]
  },
  {
   "cell_type": "code",
   "execution_count": 6,
   "metadata": {},
   "outputs": [
    {
     "name": "stdout",
     "output_type": "stream",
     "text": [
      "features_base.shape: (4194, 116)\n",
      "features_base_denoise.shape: (4194, 116)\n",
      "features_folds_denoise.shape: (4194, 1151)\n",
      "features_tsfresh.shape: (4194, 789)\n",
      "features_signal.shape: (4194, 866)\n",
      "features_wavelet.shape: (4194, 25)\n",
      "df_all.shape: (4194, 3063)\n",
      "df.shape: (4194, 3058)\n",
      "X_all.shape: (4194, 3057)\n"
     ]
    }
   ],
   "source": [
    "print('features_base.shape:',features_base.shape)\n",
    "print('features_base_denoise.shape:',features_base_denoise.shape)\n",
    "print('features_folds_denoise.shape:',features_folds_denoise.shape)\n",
    "print('features_tsfresh.shape:',features_tsfresh.shape)\n",
    "print('features_signal.shape:',features_signal.shape)\n",
    "print('features_wavelet.shape:',features_wavelet.shape)\n",
    "\n",
    "\n",
    "print('df_all.shape:',df_all.shape)\n",
    "print('df.shape:',df.shape)\n",
    "print('X_all.shape:',X_all.shape)"
   ]
  },
  {
   "cell_type": "markdown",
   "metadata": {},
   "source": [
    "## Cleaning from NaN,infinity or too large values"
   ]
  },
  {
   "cell_type": "code",
   "execution_count": 7,
   "metadata": {},
   "outputs": [],
   "source": [
    "if np.any(np.isnan(X_all)):\n",
    "    X_all.fillna(0,inplace=True)"
   ]
  },
  {
   "cell_type": "markdown",
   "metadata": {},
   "source": [
    "## Outer Cross-Validation split"
   ]
  },
  {
   "cell_type": "code",
   "execution_count": 8,
   "metadata": {},
   "outputs": [],
   "source": [
    "from sklearn.model_selection import train_test_split\n",
    "from src.config.common import RANDOM_STATE\n",
    "X, X_cross, y, y_cross = train_test_split(X_all, y_all, test_size=0.15, random_state=RANDOM_STATE)"
   ]
  },
  {
   "cell_type": "code",
   "execution_count": 9,
   "metadata": {},
   "outputs": [
    {
     "name": "stdout",
     "output_type": "stream",
     "text": [
      "before (3564, 3057)\n",
      "after (3564, 2916)\n"
     ]
    }
   ],
   "source": [
    "from sklearn.feature_selection import VarianceThreshold\n",
    "from sklearn.feature_selection import SelectKBest\n",
    "from sklearn.feature_selection import f_regression\n",
    "\n",
    "var_selector = VarianceThreshold().fit(X)\n",
    "print('before',X.shape)\n",
    "X = X[X.columns[var_selector.get_support(indices=True)]]\n",
    "print('after',X.shape)\n",
    "\n",
    "X_cross = X_cross[X_cross.columns[var_selector.get_support(indices=True)]]"
   ]
  },
  {
   "cell_type": "markdown",
   "metadata": {},
   "source": [
    "## Submission dataset"
   ]
  },
  {
   "cell_type": "code",
   "execution_count": 10,
   "metadata": {},
   "outputs": [
    {
     "name": "stdout",
     "output_type": "stream",
     "text": [
      "before (2624, 3057)\n",
      "after (2624, 2916)\n",
      "CPU times: user 1.68 s, sys: 118 ms, total: 1.8 s\n",
      "Wall time: 1.8 s\n"
     ]
    }
   ],
   "source": [
    "%%time\n",
    "\n",
    "FEATURES_BASE = '../data/processed/test/features_base.csv'\n",
    "FEATURES_BASE_DENOISE = '../data/processed/test/features_base_denoise.csv'\n",
    "FEATURES_FOLDS_DENOISE = '../data/processed/test/features_folds_denoise.csv'\n",
    "FEATURES_TSFRESH = '../data/processed/test/features_tsfresh.csv'\n",
    "FEATURES_SIGNAL = '../data/processed/test/features_signal.csv'\n",
    "FEATURES_WAVELET = '../data/processed/test/features_wavelet.csv'\n",
    "\n",
    "\n",
    "features_base = pd.read_csv(FEATURES_BASE,index_col='id').add_prefix('b_')\n",
    "features_base_denoise = pd.read_csv(FEATURES_BASE_DENOISE,index_col='id').add_prefix('bd_')\n",
    "features_folds_denoise = pd.read_csv(FEATURES_FOLDS_DENOISE,index_col='id').add_prefix('fd_')\n",
    "features_tsfresh = pd.read_csv(FEATURES_TSFRESH,index_col='id').add_prefix('ts_')\n",
    "features_signal = pd.read_csv(FEATURES_SIGNAL,index_col='id').add_prefix('sg_')\n",
    "features_wavelet = pd.read_csv(FEATURES_WAVELET,index_col='id').add_prefix('wv_')\n",
    "\n",
    "X_submit = features_base.join(features_base_denoise).join(features_folds_denoise).join(features_tsfresh).join(features_signal).join(features_wavelet)\n",
    "\n",
    "if np.any(np.isnan(X_submit)):\n",
    "    X_submit.fillna(0,inplace=True)\n",
    "\n",
    "print('before',X_submit.shape)\n",
    "X_submit = X_submit[X_submit.columns[var_selector.get_support(indices=True)]]\n",
    "print('after',X_submit.shape)"
   ]
  },
  {
   "cell_type": "markdown",
   "metadata": {},
   "source": [
    "## LGBM"
   ]
  },
  {
   "cell_type": "code",
   "execution_count": 11,
   "metadata": {},
   "outputs": [],
   "source": [
    "params = {'num_leaves': 21,\n",
    "         'min_data_in_leaf': 20,\n",
    "         'objective':'regression',\n",
    "         'max_depth': 108,\n",
    "         'learning_rate': 0.001,\n",
    "         \"boosting\": \"gbdt\",\n",
    "         \"feature_fraction\": 0.91,\n",
    "         \"bagging_freq\": 1,\n",
    "         \"bagging_fraction\": 0.91,\n",
    "         \"bagging_seed\": 42,\n",
    "         \"metric\": 'mae',\n",
    "         \"lambda_l1\": 0.1,\n",
    "         \"verbosity\": -1,\n",
    "         \"random_state\": 42}"
   ]
  },
  {
   "cell_type": "code",
   "execution_count": null,
   "metadata": {},
   "outputs": [
    {
     "name": "stdout",
     "output_type": "stream",
     "text": [
      "working fold 0\n",
      "fold 0\n",
      "Training until validation scores don't improve for 200 rounds.\n"
     ]
    }
   ],
   "source": [
    "from sklearn.model_selection import KFold\n",
    "from sklearn.preprocessing import StandardScaler\n",
    "from sklearn.metrics import mean_absolute_error, mean_squared_error\n",
    "import lightgbm as lgb\n",
    "\n",
    "maes = []\n",
    "rmses = []\n",
    "tr_maes = []\n",
    "tr_rmses = []\n",
    "\n",
    "submission_preds = np.zeros(len(X_submit))\n",
    "predictions = np.zeros(len(X_cross))\n",
    "\n",
    "n_fold = 6\n",
    "folds = KFold(n_splits=n_fold, shuffle=False, random_state=42)\n",
    "\n",
    "for fold_, (trn_idx, val_idx) in enumerate(folds.split(X, y)):\n",
    "    print('working fold %d' % fold_)\n",
    "    strLog = \"fold {}\".format(fold_)\n",
    "    print(strLog)\n",
    "\n",
    "    X_train, X_test = X.iloc[trn_idx], X.iloc[val_idx]\n",
    "    y_train, y_test = y.iloc[trn_idx], y.iloc[val_idx]\n",
    "    \n",
    "    scaler = StandardScaler()\n",
    "\n",
    "    scaler = scaler.fit(X_train)\n",
    "    X_train = scaler.transform(X_train)\n",
    "    X_test = scaler.transform(X_test)\n",
    "    X_cross_scaled = scaler.transform(X_cross)\n",
    "    X_submit_scaled = scaler.transform(X_submit)\n",
    "    \n",
    "    model = lgb.LGBMRegressor(**params, n_estimators=60000, n_jobs=-1)\n",
    "    model.fit(X_train, y_train,\n",
    "              eval_set=[(X_train, y_train), (X_test, y_test)], \n",
    "              eval_metric='mae',\n",
    "              verbose=1000, \n",
    "              early_stopping_rounds=200)\n",
    "\n",
    "    # predictions\n",
    "    preds_cross = model.predict(X_cross_scaled)  #, num_iteration=model.best_iteration_)\n",
    "    predictions += preds_cross / folds.n_splits\n",
    "    \n",
    "    preds_submit = model.predict(X_submit_scaled)  #, num_iteration=model.best_iteration_)\n",
    "    submission_preds += preds_submit / folds.n_splits\n",
    "\n",
    "    # mean absolute error\n",
    "    mae = mean_absolute_error(y_cross, preds_cross)\n",
    "    print('MAE: %.6f' % mae)\n",
    "    maes.append(mae)\n",
    "\n",
    "    # root mean squared error\n",
    "    rmse = mean_squared_error(y_cross, preds_cross)\n",
    "    print('RMSE: %.6f' % rmse)\n",
    "    rmses.append(rmse)\n",
    "\n",
    "    # training for over fit\n",
    "    preds = model.predict(X_train)  #, num_iteration=model.best_iteration_)\n",
    "\n",
    "    mae = mean_absolute_error(y_train, preds)\n",
    "    print('Tr MAE: %.6f' % mae)\n",
    "    tr_maes.append(mae)\n",
    "\n",
    "    rmse = mean_squared_error(y_train, preds)\n",
    "    print('Tr RMSE: %.6f' % rmse)\n",
    "    tr_rmses.append(rmse)\n",
    "\n",
    "print('MAEs', maes)\n",
    "print('MAE mean: %.6f' % np.mean(maes))\n",
    "print('RMSEs', rmses)\n",
    "print('RMSE mean: %.6f' % np.mean(rmses))\n",
    "\n",
    "print('Tr MAEs', tr_maes)\n",
    "print('Tr MAE mean: %.6f' % np.mean(tr_maes))\n",
    "print('Tr RMSEs', rmses)\n",
    "print('Tr RMSE mean: %.6f' % np.mean(tr_rmses))"
   ]
  },
  {
   "cell_type": "markdown",
   "metadata": {},
   "source": [
    "## Submission"
   ]
  },
  {
   "cell_type": "code",
   "execution_count": null,
   "metadata": {},
   "outputs": [],
   "source": [
    "X_submit"
   ]
  },
  {
   "cell_type": "code",
   "execution_count": null,
   "metadata": {},
   "outputs": [],
   "source": [
    "submission = pd.DataFrame()\n",
    "submission['seg_id'] = X_submit.index\n",
    "submission['seg_id'] = submission['seg_id'].apply(lambda seg_id: 'seg_'+seg_id)\n",
    "submission['time_to_failure'] = submission_preds"
   ]
  },
  {
   "cell_type": "code",
   "execution_count": null,
   "metadata": {},
   "outputs": [],
   "source": [
    "submission_filename = 'submission_lgbm.csv'\n",
    "submission.to_csv(submission_filename,index=False)\n",
    "!kaggle competitions submit -f $submission_filename -m catboost0.2 LANL-Earthquake-Prediction"
   ]
  },
  {
   "cell_type": "code",
   "execution_count": null,
   "metadata": {},
   "outputs": [],
   "source": []
  }
 ],
 "metadata": {
  "kernelspec": {
   "display_name": "Python 3",
   "language": "python",
   "name": "python3"
  },
  "language_info": {
   "codemirror_mode": {
    "name": "ipython",
    "version": 3
   },
   "file_extension": ".py",
   "mimetype": "text/x-python",
   "name": "python",
   "nbconvert_exporter": "python",
   "pygments_lexer": "ipython3",
   "version": "3.6.4"
  }
 },
 "nbformat": 4,
 "nbformat_minor": 2
}
