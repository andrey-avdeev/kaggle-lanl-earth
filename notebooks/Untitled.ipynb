{
 "cells": [
  {
   "cell_type": "code",
   "execution_count": 2,
   "metadata": {},
   "outputs": [],
   "source": [
    "import numpy as np\n",
    "import pandas as pd"
   ]
  },
  {
   "cell_type": "code",
   "execution_count": 6,
   "metadata": {},
   "outputs": [],
   "source": [
    "df = pd.read_csv('cache/train/features_fast/feature_1.csv')"
   ]
  },
  {
   "cell_type": "code",
   "execution_count": 7,
   "metadata": {},
   "outputs": [
    {
     "data": {
      "text/html": [
       "<div>\n",
       "<style scoped>\n",
       "    .dataframe tbody tr th:only-of-type {\n",
       "        vertical-align: middle;\n",
       "    }\n",
       "\n",
       "    .dataframe tbody tr th {\n",
       "        vertical-align: top;\n",
       "    }\n",
       "\n",
       "    .dataframe thead th {\n",
       "        text-align: right;\n",
       "    }\n",
       "</style>\n",
       "<table border=\"1\" class=\"dataframe\">\n",
       "  <thead>\n",
       "    <tr style=\"text-align: right;\">\n",
       "      <th></th>\n",
       "      <th>Unnamed: 0</th>\n",
       "      <th>ave</th>\n",
       "      <th>std</th>\n",
       "      <th>max</th>\n",
       "      <th>min</th>\n",
       "      <th>q90</th>\n",
       "      <th>q95</th>\n",
       "      <th>q99</th>\n",
       "      <th>q05</th>\n",
       "      <th>q10</th>\n",
       "      <th>...</th>\n",
       "      <th>q99_roll_mean_1000</th>\n",
       "      <th>ave_roll_abs_mean_1000</th>\n",
       "      <th>std_roll_abs_mean_1000</th>\n",
       "      <th>max_roll_abs_mean_1000</th>\n",
       "      <th>min_roll_abs_mean_1000</th>\n",
       "      <th>q01_roll_abs_mean_1000</th>\n",
       "      <th>q05_roll_abs_mean_1000</th>\n",
       "      <th>q95_roll_abs_mean_1000</th>\n",
       "      <th>q99_roll_abs_mean_1000</th>\n",
       "      <th>y</th>\n",
       "    </tr>\n",
       "  </thead>\n",
       "  <tbody>\n",
       "    <tr>\n",
       "      <th>0</th>\n",
       "      <td>1</td>\n",
       "      <td>4.725767</td>\n",
       "      <td>6.588802</td>\n",
       "      <td>181.0</td>\n",
       "      <td>-154.0</td>\n",
       "      <td>10.0</td>\n",
       "      <td>12.0</td>\n",
       "      <td>21.0</td>\n",
       "      <td>-2.0</td>\n",
       "      <td>0.0</td>\n",
       "      <td>...</td>\n",
       "      <td>5.223</td>\n",
       "      <td>5.73951</td>\n",
       "      <td>2.399157</td>\n",
       "      <td>28.41</td>\n",
       "      <td>4.325</td>\n",
       "      <td>4.447</td>\n",
       "      <td>4.552</td>\n",
       "      <td>8.552</td>\n",
       "      <td>20.504</td>\n",
       "      <td>1.391499</td>\n",
       "    </tr>\n",
       "  </tbody>\n",
       "</table>\n",
       "<p>1 rows × 117 columns</p>\n",
       "</div>"
      ],
      "text/plain": [
       "   Unnamed: 0       ave       std    max    min   q90   q95   q99  q05  q10  \\\n",
       "0           1  4.725767  6.588802  181.0 -154.0  10.0  12.0  21.0 -2.0  0.0   \n",
       "\n",
       "     ...     q99_roll_mean_1000  ave_roll_abs_mean_1000  \\\n",
       "0    ...                  5.223                 5.73951   \n",
       "\n",
       "   std_roll_abs_mean_1000  max_roll_abs_mean_1000  min_roll_abs_mean_1000  \\\n",
       "0                2.399157                   28.41                   4.325   \n",
       "\n",
       "   q01_roll_abs_mean_1000  q05_roll_abs_mean_1000  q95_roll_abs_mean_1000  \\\n",
       "0                   4.447                   4.552                   8.552   \n",
       "\n",
       "   q99_roll_abs_mean_1000         y  \n",
       "0                  20.504  1.391499  \n",
       "\n",
       "[1 rows x 117 columns]"
      ]
     },
     "execution_count": 7,
     "metadata": {},
     "output_type": "execute_result"
    }
   ],
   "source": [
    "df.head()"
   ]
  },
  {
   "cell_type": "code",
   "execution_count": 11,
   "metadata": {},
   "outputs": [],
   "source": [
    "df.drop('Unnamed: 0',axis=1, inplace=True)"
   ]
  },
  {
   "cell_type": "code",
   "execution_count": 16,
   "metadata": {},
   "outputs": [],
   "source": [
    "df['id'] = 1322"
   ]
  },
  {
   "cell_type": "code",
   "execution_count": 21,
   "metadata": {},
   "outputs": [],
   "source": [
    "df.index = df['id'].values"
   ]
  },
  {
   "cell_type": "code",
   "execution_count": 22,
   "metadata": {},
   "outputs": [
    {
     "data": {
      "text/html": [
       "<div>\n",
       "<style scoped>\n",
       "    .dataframe tbody tr th:only-of-type {\n",
       "        vertical-align: middle;\n",
       "    }\n",
       "\n",
       "    .dataframe tbody tr th {\n",
       "        vertical-align: top;\n",
       "    }\n",
       "\n",
       "    .dataframe thead th {\n",
       "        text-align: right;\n",
       "    }\n",
       "</style>\n",
       "<table border=\"1\" class=\"dataframe\">\n",
       "  <thead>\n",
       "    <tr style=\"text-align: right;\">\n",
       "      <th></th>\n",
       "      <th>ave</th>\n",
       "      <th>std</th>\n",
       "      <th>max</th>\n",
       "      <th>min</th>\n",
       "      <th>q90</th>\n",
       "      <th>q95</th>\n",
       "      <th>q99</th>\n",
       "      <th>q05</th>\n",
       "      <th>q10</th>\n",
       "      <th>q01</th>\n",
       "      <th>...</th>\n",
       "      <th>ave_roll_abs_mean_1000</th>\n",
       "      <th>std_roll_abs_mean_1000</th>\n",
       "      <th>max_roll_abs_mean_1000</th>\n",
       "      <th>min_roll_abs_mean_1000</th>\n",
       "      <th>q01_roll_abs_mean_1000</th>\n",
       "      <th>q05_roll_abs_mean_1000</th>\n",
       "      <th>q95_roll_abs_mean_1000</th>\n",
       "      <th>q99_roll_abs_mean_1000</th>\n",
       "      <th>y</th>\n",
       "      <th>id</th>\n",
       "    </tr>\n",
       "  </thead>\n",
       "  <tbody>\n",
       "    <tr>\n",
       "      <th>1322</th>\n",
       "      <td>4.725767</td>\n",
       "      <td>6.588802</td>\n",
       "      <td>181.0</td>\n",
       "      <td>-154.0</td>\n",
       "      <td>10.0</td>\n",
       "      <td>12.0</td>\n",
       "      <td>21.0</td>\n",
       "      <td>-2.0</td>\n",
       "      <td>0.0</td>\n",
       "      <td>-11.0</td>\n",
       "      <td>...</td>\n",
       "      <td>5.73951</td>\n",
       "      <td>2.399157</td>\n",
       "      <td>28.41</td>\n",
       "      <td>4.325</td>\n",
       "      <td>4.447</td>\n",
       "      <td>4.552</td>\n",
       "      <td>8.552</td>\n",
       "      <td>20.504</td>\n",
       "      <td>1.391499</td>\n",
       "      <td>1322</td>\n",
       "    </tr>\n",
       "  </tbody>\n",
       "</table>\n",
       "<p>1 rows × 117 columns</p>\n",
       "</div>"
      ],
      "text/plain": [
       "           ave       std    max    min   q90   q95   q99  q05  q10   q01  \\\n",
       "1322  4.725767  6.588802  181.0 -154.0  10.0  12.0  21.0 -2.0  0.0 -11.0   \n",
       "\n",
       "      ...   ave_roll_abs_mean_1000  std_roll_abs_mean_1000  \\\n",
       "1322  ...                  5.73951                2.399157   \n",
       "\n",
       "      max_roll_abs_mean_1000  min_roll_abs_mean_1000  q01_roll_abs_mean_1000  \\\n",
       "1322                   28.41                   4.325                   4.447   \n",
       "\n",
       "      q05_roll_abs_mean_1000  q95_roll_abs_mean_1000  q99_roll_abs_mean_1000  \\\n",
       "1322                   4.552                   8.552                  20.504   \n",
       "\n",
       "             y    id  \n",
       "1322  1.391499  1322  \n",
       "\n",
       "[1 rows x 117 columns]"
      ]
     },
     "execution_count": 22,
     "metadata": {},
     "output_type": "execute_result"
    }
   ],
   "source": [
    "df"
   ]
  },
  {
   "cell_type": "code",
   "execution_count": null,
   "metadata": {},
   "outputs": [],
   "source": []
  }
 ],
 "metadata": {
  "kernelspec": {
   "display_name": "Python 3",
   "language": "python",
   "name": "python3"
  },
  "language_info": {
   "codemirror_mode": {
    "name": "ipython",
    "version": 3
   },
   "file_extension": ".py",
   "mimetype": "text/x-python",
   "name": "python",
   "nbconvert_exporter": "python",
   "pygments_lexer": "ipython3",
   "version": "3.6.4"
  }
 },
 "nbformat": 4,
 "nbformat_minor": 2
}
