{
 "cells": [
  {
   "cell_type": "code",
   "execution_count": 1,
   "metadata": {},
   "outputs": [],
   "source": [
    "import os\n",
    "from os import listdir\n",
    "from os.path import isfile, join\n",
    "\n",
    "import numpy as np\n",
    "import pandas as pd"
   ]
  },
  {
   "cell_type": "code",
   "execution_count": 2,
   "metadata": {},
   "outputs": [],
   "source": [
    "FOLDER_PATH = 'cache/train/features_den_fast/'"
   ]
  },
  {
   "cell_type": "code",
   "execution_count": 3,
   "metadata": {},
   "outputs": [],
   "source": [
    "file_names = [f for f in listdir(FOLDER_PATH) if isfile(join(FOLDER_PATH, f))]"
   ]
  },
  {
   "cell_type": "code",
   "execution_count": 4,
   "metadata": {},
   "outputs": [],
   "source": [
    "df = pd.DataFrame()\n",
    "\n",
    "for file_name in file_names:\n",
    "    df_seg = pd.read_csv(FOLDER_PATH + file_name)\n",
    "    df_seg['id'] = file_name.replace(\"feature_\", \"\").replace(\".csv\", \"\")\n",
    "    df = df.append(df_seg)"
   ]
  },
  {
   "cell_type": "code",
   "execution_count": 5,
   "metadata": {},
   "outputs": [
    {
     "data": {
      "text/html": [
       "<div>\n",
       "<style scoped>\n",
       "    .dataframe tbody tr th:only-of-type {\n",
       "        vertical-align: middle;\n",
       "    }\n",
       "\n",
       "    .dataframe tbody tr th {\n",
       "        vertical-align: top;\n",
       "    }\n",
       "\n",
       "    .dataframe thead th {\n",
       "        text-align: right;\n",
       "    }\n",
       "</style>\n",
       "<table border=\"1\" class=\"dataframe\">\n",
       "  <thead>\n",
       "    <tr style=\"text-align: right;\">\n",
       "      <th></th>\n",
       "      <th>Unnamed: 0</th>\n",
       "      <th>ave</th>\n",
       "      <th>std</th>\n",
       "      <th>max</th>\n",
       "      <th>min</th>\n",
       "      <th>q90</th>\n",
       "      <th>q95</th>\n",
       "      <th>q99</th>\n",
       "      <th>q05</th>\n",
       "      <th>q10</th>\n",
       "      <th>...</th>\n",
       "      <th>ave_roll_abs_mean_1000</th>\n",
       "      <th>std_roll_abs_mean_1000</th>\n",
       "      <th>max_roll_abs_mean_1000</th>\n",
       "      <th>min_roll_abs_mean_1000</th>\n",
       "      <th>q01_roll_abs_mean_1000</th>\n",
       "      <th>q05_roll_abs_mean_1000</th>\n",
       "      <th>q95_roll_abs_mean_1000</th>\n",
       "      <th>q99_roll_abs_mean_1000</th>\n",
       "      <th>y</th>\n",
       "      <th>id</th>\n",
       "    </tr>\n",
       "  </thead>\n",
       "  <tbody>\n",
       "    <tr>\n",
       "      <th>0</th>\n",
       "      <td>1</td>\n",
       "      <td>4.901845</td>\n",
       "      <td>5.907705</td>\n",
       "      <td>190.681274</td>\n",
       "      <td>-185.443726</td>\n",
       "      <td>5.194641</td>\n",
       "      <td>9.684387</td>\n",
       "      <td>21.694641</td>\n",
       "      <td>0.025024</td>\n",
       "      <td>4.638184</td>\n",
       "      <td>...</td>\n",
       "      <td>5.703361</td>\n",
       "      <td>2.493982</td>\n",
       "      <td>33.537573</td>\n",
       "      <td>4.604500</td>\n",
       "      <td>4.674133</td>\n",
       "      <td>4.687073</td>\n",
       "      <td>9.332428</td>\n",
       "      <td>16.987486</td>\n",
       "      <td>3.341096</td>\n",
       "      <td>2992</td>\n",
       "    </tr>\n",
       "    <tr>\n",
       "      <th>0</th>\n",
       "      <td>1</td>\n",
       "      <td>4.823390</td>\n",
       "      <td>7.042332</td>\n",
       "      <td>323.054619</td>\n",
       "      <td>-207.132881</td>\n",
       "      <td>5.155479</td>\n",
       "      <td>9.777397</td>\n",
       "      <td>23.508061</td>\n",
       "      <td>-0.191353</td>\n",
       "      <td>4.539970</td>\n",
       "      <td>...</td>\n",
       "      <td>5.772816</td>\n",
       "      <td>2.827686</td>\n",
       "      <td>31.754600</td>\n",
       "      <td>4.509151</td>\n",
       "      <td>4.539970</td>\n",
       "      <td>4.589897</td>\n",
       "      <td>11.239715</td>\n",
       "      <td>20.446242</td>\n",
       "      <td>7.125296</td>\n",
       "      <td>514</td>\n",
       "    </tr>\n",
       "  </tbody>\n",
       "</table>\n",
       "<p>2 rows × 118 columns</p>\n",
       "</div>"
      ],
      "text/plain": [
       "   Unnamed: 0       ave       std         max         min       q90       q95  \\\n",
       "0           1  4.901845  5.907705  190.681274 -185.443726  5.194641  9.684387   \n",
       "0           1  4.823390  7.042332  323.054619 -207.132881  5.155479  9.777397   \n",
       "\n",
       "         q99       q05       q10  ...   ave_roll_abs_mean_1000  \\\n",
       "0  21.694641  0.025024  4.638184  ...                 5.703361   \n",
       "0  23.508061 -0.191353  4.539970  ...                 5.772816   \n",
       "\n",
       "   std_roll_abs_mean_1000  max_roll_abs_mean_1000  min_roll_abs_mean_1000  \\\n",
       "0                2.493982               33.537573                4.604500   \n",
       "0                2.827686               31.754600                4.509151   \n",
       "\n",
       "   q01_roll_abs_mean_1000  q05_roll_abs_mean_1000  q95_roll_abs_mean_1000  \\\n",
       "0                4.674133                4.687073                9.332428   \n",
       "0                4.539970                4.589897               11.239715   \n",
       "\n",
       "   q99_roll_abs_mean_1000         y    id  \n",
       "0               16.987486  3.341096  2992  \n",
       "0               20.446242  7.125296   514  \n",
       "\n",
       "[2 rows x 118 columns]"
      ]
     },
     "execution_count": 5,
     "metadata": {},
     "output_type": "execute_result"
    }
   ],
   "source": [
    "df.head(2)"
   ]
  },
  {
   "cell_type": "code",
   "execution_count": 6,
   "metadata": {},
   "outputs": [],
   "source": [
    "df.index = df['id'].values\n",
    "df.index = df.index.astype(int)"
   ]
  },
  {
   "cell_type": "code",
   "execution_count": 15,
   "metadata": {},
   "outputs": [],
   "source": [
    "\n",
    "# features.drop('id', axis=1, inplace=True)\n",
    "df = df.drop('Unnamed: 0', axis=1)\n",
    "df = df.sort_index()"
   ]
  },
  {
   "cell_type": "code",
   "execution_count": 16,
   "metadata": {},
   "outputs": [
    {
     "data": {
      "text/plain": [
       "Index(['ave', 'std', 'max', 'min', 'q90', 'q95', 'q99', 'q05', 'q10', 'q01',\n",
       "       ...\n",
       "       'q99_roll_mean_1000', 'ave_roll_abs_mean_1000',\n",
       "       'std_roll_abs_mean_1000', 'max_roll_abs_mean_1000',\n",
       "       'min_roll_abs_mean_1000', 'q01_roll_abs_mean_1000',\n",
       "       'q05_roll_abs_mean_1000', 'q95_roll_abs_mean_1000',\n",
       "       'q99_roll_abs_mean_1000', 'y'],\n",
       "      dtype='object', length=116)"
      ]
     },
     "execution_count": 16,
     "metadata": {},
     "output_type": "execute_result"
    }
   ],
   "source": [
    "df.columns"
   ]
  },
  {
   "cell_type": "code",
   "execution_count": 17,
   "metadata": {},
   "outputs": [
    {
     "data": {
      "text/html": [
       "<div>\n",
       "<style scoped>\n",
       "    .dataframe tbody tr th:only-of-type {\n",
       "        vertical-align: middle;\n",
       "    }\n",
       "\n",
       "    .dataframe tbody tr th {\n",
       "        vertical-align: top;\n",
       "    }\n",
       "\n",
       "    .dataframe thead th {\n",
       "        text-align: right;\n",
       "    }\n",
       "</style>\n",
       "<table border=\"1\" class=\"dataframe\">\n",
       "  <thead>\n",
       "    <tr style=\"text-align: right;\">\n",
       "      <th></th>\n",
       "      <th>ave</th>\n",
       "      <th>std</th>\n",
       "      <th>max</th>\n",
       "      <th>min</th>\n",
       "      <th>q90</th>\n",
       "      <th>q95</th>\n",
       "      <th>q99</th>\n",
       "      <th>q05</th>\n",
       "      <th>q10</th>\n",
       "      <th>q01</th>\n",
       "      <th>...</th>\n",
       "      <th>q99_roll_mean_1000</th>\n",
       "      <th>ave_roll_abs_mean_1000</th>\n",
       "      <th>std_roll_abs_mean_1000</th>\n",
       "      <th>max_roll_abs_mean_1000</th>\n",
       "      <th>min_roll_abs_mean_1000</th>\n",
       "      <th>q01_roll_abs_mean_1000</th>\n",
       "      <th>q05_roll_abs_mean_1000</th>\n",
       "      <th>q95_roll_abs_mean_1000</th>\n",
       "      <th>q99_roll_abs_mean_1000</th>\n",
       "      <th>y</th>\n",
       "    </tr>\n",
       "  </thead>\n",
       "  <tbody>\n",
       "    <tr>\n",
       "      <th>0</th>\n",
       "      <td>4.883947</td>\n",
       "      <td>3.854965</td>\n",
       "      <td>101.301819</td>\n",
       "      <td>-91.198181</td>\n",
       "      <td>5.203979</td>\n",
       "      <td>8.741760</td>\n",
       "      <td>15.998047</td>\n",
       "      <td>1.038635</td>\n",
       "      <td>4.331421</td>\n",
       "      <td>-6.486450</td>\n",
       "      <td>...</td>\n",
       "      <td>5.311493</td>\n",
       "      <td>5.309864</td>\n",
       "      <td>1.536251</td>\n",
       "      <td>24.455775</td>\n",
       "      <td>4.017334</td>\n",
       "      <td>4.329210</td>\n",
       "      <td>4.444907</td>\n",
       "      <td>6.928594</td>\n",
       "      <td>10.876837</td>\n",
       "      <td>1.430797</td>\n",
       "    </tr>\n",
       "    <tr>\n",
       "      <th>1</th>\n",
       "      <td>4.722502</td>\n",
       "      <td>5.626686</td>\n",
       "      <td>181.190590</td>\n",
       "      <td>-151.544151</td>\n",
       "      <td>5.091888</td>\n",
       "      <td>8.876686</td>\n",
       "      <td>18.770233</td>\n",
       "      <td>0.440224</td>\n",
       "      <td>4.400368</td>\n",
       "      <td>-9.349632</td>\n",
       "      <td>...</td>\n",
       "      <td>5.091888</td>\n",
       "      <td>5.425580</td>\n",
       "      <td>2.311011</td>\n",
       "      <td>28.091183</td>\n",
       "      <td>4.398940</td>\n",
       "      <td>4.400368</td>\n",
       "      <td>4.466279</td>\n",
       "      <td>7.833419</td>\n",
       "      <td>20.146314</td>\n",
       "      <td>1.391499</td>\n",
       "    </tr>\n",
       "  </tbody>\n",
       "</table>\n",
       "<p>2 rows × 116 columns</p>\n",
       "</div>"
      ],
      "text/plain": [
       "        ave       std         max         min       q90       q95        q99  \\\n",
       "0  4.883947  3.854965  101.301819  -91.198181  5.203979  8.741760  15.998047   \n",
       "1  4.722502  5.626686  181.190590 -151.544151  5.091888  8.876686  18.770233   \n",
       "\n",
       "        q05       q10       q01    ...     q99_roll_mean_1000  \\\n",
       "0  1.038635  4.331421 -6.486450    ...               5.311493   \n",
       "1  0.440224  4.400368 -9.349632    ...               5.091888   \n",
       "\n",
       "   ave_roll_abs_mean_1000  std_roll_abs_mean_1000  max_roll_abs_mean_1000  \\\n",
       "0                5.309864                1.536251               24.455775   \n",
       "1                5.425580                2.311011               28.091183   \n",
       "\n",
       "   min_roll_abs_mean_1000  q01_roll_abs_mean_1000  q05_roll_abs_mean_1000  \\\n",
       "0                4.017334                4.329210                4.444907   \n",
       "1                4.398940                4.400368                4.466279   \n",
       "\n",
       "   q95_roll_abs_mean_1000  q99_roll_abs_mean_1000         y  \n",
       "0                6.928594               10.876837  1.430797  \n",
       "1                7.833419               20.146314  1.391499  \n",
       "\n",
       "[2 rows x 116 columns]"
      ]
     },
     "execution_count": 17,
     "metadata": {},
     "output_type": "execute_result"
    }
   ],
   "source": [
    "df.head(2)"
   ]
  },
  {
   "cell_type": "code",
   "execution_count": 18,
   "metadata": {},
   "outputs": [],
   "source": [
    "df.to_csv('cache/train/features_den_fast.csv', index=True, index_label='id')"
   ]
  },
  {
   "cell_type": "code",
   "execution_count": null,
   "metadata": {},
   "outputs": [],
   "source": []
  }
 ],
 "metadata": {
  "kernelspec": {
   "display_name": "Python 3",
   "language": "python",
   "name": "python3"
  },
  "language_info": {
   "codemirror_mode": {
    "name": "ipython",
    "version": 3
   },
   "file_extension": ".py",
   "mimetype": "text/x-python",
   "name": "python",
   "nbconvert_exporter": "python",
   "pygments_lexer": "ipython3",
   "version": "3.6.4"
  }
 },
 "nbformat": 4,
 "nbformat_minor": 2
}
