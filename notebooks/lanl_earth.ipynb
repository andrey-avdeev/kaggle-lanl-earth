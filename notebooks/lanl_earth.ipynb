{
 "cells": [
  {
   "cell_type": "markdown",
   "metadata": {},
   "source": [
    "# LANL Earthquake Prediction"
   ]
  },
  {
   "cell_type": "markdown",
   "metadata": {},
   "source": [
    "## Preparation"
   ]
  },
  {
   "cell_type": "code",
   "execution_count": 2,
   "metadata": {},
   "outputs": [],
   "source": [
    "import numpy as np\n",
    "import pandas as pd\n",
    "from tqdm import tqdm_notebook as tqdm\n",
    "pd.options.display.float_format = '{:,.10f}'.format\n",
    "\n",
    "import warnings\n",
    "warnings.simplefilter(action='ignore', category=FutureWarning)\n",
    "warnings.simplefilter(action='ignore', category=UserWarning)"
   ]
  },
  {
   "cell_type": "code",
   "execution_count": 3,
   "metadata": {},
   "outputs": [
    {
     "name": "stdout",
     "output_type": "stream",
     "text": [
      "Reading file:data/train/train.csv into dataframe:\n"
     ]
    }
   ],
   "source": [
    "from src.utils.file import FileUtils as file\n",
    "\n",
    "data = file.train_data()\n",
    "data.columns = ['x', 'y']\n",
    "data['id'] = 1\n",
    "data.head(1)"
   ]
  },
  {
   "cell_type": "code",
   "execution_count": 5,
   "metadata": {},
   "outputs": [],
   "source": [
    "file.split_and_cache(data)"
   ]
  },
  {
   "cell_type": "code",
   "execution_count": 7,
   "metadata": {},
   "outputs": [],
   "source": [
    "from tsfresh import extract_features\n",
    "\n",
    "def extract_tf_features(tupl):\n",
    "    segment,seg = tupl[0],tupl[1]\n",
    "    print('extract_tf_features.call.segment={segment}'.format(segment=segment))\n",
    "    \n",
    "    x = seg[['id','x']]   # pd series\n",
    "    y = seg['y'].values[-1]  # single value\n",
    "    \n",
    "    extracted_features = extract_features(x, column_id='id')\n",
    "    \n",
    "    X_train = pd.DataFrame(dtype=np.float64)\n",
    "    y_train = pd.DataFrame(dtype=np.float64)\n",
    "    \n",
    "    X_train = X_train.append(extracted_features)\n",
    "    y_train.loc[segment, 'y'] = y\n",
    "    \n",
    "    X_train['y'] = y\n",
    "    X_train.to_csv(segments_path+str(segment))\n",
    "    \n",
    "    print('extract_tf_features.success.segment={segment}'.format(segment=segment))\n",
    "    \n",
    "    del seg\n",
    "    del x\n",
    "    del y\n",
    "    del extracted_features\n",
    "    del X_train\n",
    "    del y_train"
   ]
  },
  {
   "cell_type": "code",
   "execution_count": null,
   "metadata": {},
   "outputs": [
    {
     "data": {
      "text/plain": [
       "6"
      ]
     },
     "execution_count": 8,
     "metadata": {},
     "output_type": "execute_result"
    }
   ],
   "source": [
    "import multiprocessing\n",
    "\n",
    "num_procs = multiprocessing.cpu_count() - 2\n",
    "num_procs"
   ]
  },
  {
   "cell_type": "code",
   "execution_count": null,
   "metadata": {},
   "outputs": [
    {
     "name": "stdout",
     "output_type": "stream",
     "text": [
      "extract_tf_features.call.segment=0\n",
      "extract_tf_features.call.segment=525\n",
      "extract_tf_features.call.segment=1050\n",
      "extract_tf_features.call.segment=1575\n",
      "extract_tf_features.call.segment=2100\n",
      "extract_tf_features.call.segment=2625\n"
     ]
    },
    {
     "name": "stderr",
     "output_type": "stream",
     "text": [
      "Feature Extraction:   0%|          | 0/1 [00:00<?, ?it/s]\n",
      "Feature Extraction:   0%|          | 0/1 [00:00<?, ?it/s]\u001b[A\n",
      "\n",
      "Feature Extraction:   0%|          | 0/1 [00:00<?, ?it/s]\u001b[A\u001b[A\n",
      "\n",
      "\n",
      "Feature Extraction:   0%|          | 0/1 [00:00<?, ?it/s]\u001b[A\u001b[A\u001b[A\n",
      "\n",
      "\n",
      "\n",
      "Feature Extraction:   0%|          | 0/1 [00:00<?, ?it/s]\u001b[A\u001b[A\u001b[A\u001b[A\n",
      "\n",
      "\n",
      "\n",
      "\n",
      "Feature Extraction:   0%|          | 0/1 [00:00<?, ?it/s]\u001b[A\u001b[A\u001b[A\u001b[A\u001b[A"
     ]
    }
   ],
   "source": [
    "from multiprocessing.dummy import Pool\n",
    "pool = Pool(num_procs)\n",
    "\n",
    "pool.map(extract_tf_features, [(segment, data.iloc[segment*SEGMENT_ROWS:segment*SEGMENT_ROWS+SEGMENT_ROWS]) for segment in range(segments)])\n"
   ]
  },
  {
   "cell_type": "code",
   "execution_count": null,
   "metadata": {},
   "outputs": [],
   "source": [
    "# segments_path = '{cache_dir}{segments_file}'.format(cache_dir=CACHE_DIR,segments_file=SEGMENTS_FILE)\n",
    "\n",
    "# X_train['y']=y_train['y']\n",
    "# X_train.to_csv(segments_path)"
   ]
  }
 ],
 "metadata": {
  "kernelspec": {
   "display_name": "Python 3",
   "language": "python",
   "name": "python3"
  },
  "language_info": {
   "codemirror_mode": {
    "name": "ipython",
    "version": 3
   },
   "file_extension": ".py",
   "mimetype": "text/x-python",
   "name": "python",
   "nbconvert_exporter": "python",
   "pygments_lexer": "ipython3",
   "version": "3.6.4"
  }
 },
 "nbformat": 4,
 "nbformat_minor": 2
}
