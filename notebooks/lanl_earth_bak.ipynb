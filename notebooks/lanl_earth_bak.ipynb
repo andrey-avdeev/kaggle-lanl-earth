{
 "cells": [
  {
   "cell_type": "markdown",
   "metadata": {},
   "source": [
    "# LANL Earthquake Prediction"
   ]
  },
  {
   "cell_type": "markdown",
   "metadata": {},
   "source": [
    "## Preparation"
   ]
  },
  {
   "cell_type": "code",
   "execution_count": 1,
   "metadata": {},
   "outputs": [],
   "source": [
    "DATA_DIR = 'data/'\n",
    "TRAIN_FILE = 'train/train.csv'\n",
    "\n",
    "CACHE_DIR = 'cache/'\n",
    "SEGMENTS_FILE = 'segments.csv'\n",
    "\n",
    "TRAIN_ROWS = None\n",
    "SEGMENT_ROWS = 50000"
   ]
  },
  {
   "cell_type": "code",
   "execution_count": 2,
   "metadata": {},
   "outputs": [],
   "source": [
    "import numpy as np\n",
    "import pandas as pd\n",
    "from tqdm import tqdm_notebook as tqdm\n",
    "pd.options.display.float_format = '{:,.10f}'.format\n",
    "\n",
    "import warnings\n",
    "warnings.simplefilter(action='ignore', category=FutureWarning)\n",
    "warnings.simplefilter(action='ignore', category=UserWarning)"
   ]
  },
  {
   "cell_type": "code",
   "execution_count": 3,
   "metadata": {},
   "outputs": [
    {
     "name": "stdout",
     "output_type": "stream",
     "text": [
      "Reading file:data/train/train.csv into dataframe:\n"
     ]
    }
   ],
   "source": [
    "from utils.file\n",
    "\n",
    "train_path = '{data_dir}{train_file}'.format(data_dir=DATA_DIR, train_file=TRAIN_FILE)\n",
    "data_type = {'acoustic_data': np.int16, 'time_to_failure': np.float64}\n",
    "\n",
    "print('Reading file:{file_path} into dataframe:'.format(file_path=train_path))\n",
    "data = pd.read_csv(train_path,\n",
    "                   nrows=TRAIN_ROWS,\n",
    "                   dtype=data_type)"
   ]
  },
  {
   "cell_type": "code",
   "execution_count": 4,
   "metadata": {},
   "outputs": [
    {
     "data": {
      "text/html": [
       "<div>\n",
       "<style scoped>\n",
       "    .dataframe tbody tr th:only-of-type {\n",
       "        vertical-align: middle;\n",
       "    }\n",
       "\n",
       "    .dataframe tbody tr th {\n",
       "        vertical-align: top;\n",
       "    }\n",
       "\n",
       "    .dataframe thead th {\n",
       "        text-align: right;\n",
       "    }\n",
       "</style>\n",
       "<table border=\"1\" class=\"dataframe\">\n",
       "  <thead>\n",
       "    <tr style=\"text-align: right;\">\n",
       "      <th></th>\n",
       "      <th>x</th>\n",
       "      <th>y</th>\n",
       "      <th>id</th>\n",
       "    </tr>\n",
       "  </thead>\n",
       "  <tbody>\n",
       "    <tr>\n",
       "      <th>0</th>\n",
       "      <td>12</td>\n",
       "      <td>1.4690999832</td>\n",
       "      <td>1</td>\n",
       "    </tr>\n",
       "  </tbody>\n",
       "</table>\n",
       "</div>"
      ],
      "text/plain": [
       "    x            y  id\n",
       "0  12 1.4690999832   1"
      ]
     },
     "execution_count": 4,
     "metadata": {},
     "output_type": "execute_result"
    }
   ],
   "source": [
    "data.columns=['x','y']\n",
    "data['id'] = 1\n",
    "data.head(1)"
   ]
  },
  {
   "cell_type": "code",
   "execution_count": 5,
   "metadata": {},
   "outputs": [],
   "source": [
    "segments = int(np.floor(data.shape[0] / SEGMENT_ROWS))"
   ]
  },
  {
   "cell_type": "code",
   "execution_count": 6,
   "metadata": {},
   "outputs": [],
   "source": [
    "# X_train = pd.DataFrame(dtype=np.float64)\n",
    "# y_train = pd.DataFrame(dtype=np.float64)"
   ]
  },
  {
   "cell_type": "code",
   "execution_count": 7,
   "metadata": {},
   "outputs": [],
   "source": [
    "from tsfresh import extract_features\n",
    "\n",
    "def extract_tf_features(tupl):\n",
    "    segment,seg = tupl[0],tupl[1]\n",
    "    print('extract_tf_features.call.segment={segment}'.format(segment=segment))\n",
    "    \n",
    "    x = seg[['id','x']]   # pd series\n",
    "    y = seg['y'].values[-1]  # single value\n",
    "    \n",
    "    extracted_features = extract_features(x, column_id='id')\n",
    "    \n",
    "    X_train = pd.DataFrame(dtype=np.float64)\n",
    "    y_train = pd.DataFrame(dtype=np.float64)\n",
    "    \n",
    "    X_train = X_train.append(extracted_features)\n",
    "    y_train.loc[segment, 'y'] = y\n",
    "    \n",
    "    X_train['y'] = y\n",
    "    X_train.to_csv(segments_path+str(segment))\n",
    "    \n",
    "    print('extract_tf_features.success.segment={segment}'.format(segment=segment))\n",
    "    \n",
    "    del seg\n",
    "    del x\n",
    "    del y\n",
    "    del extracted_features\n",
    "    del X_train\n",
    "    del y_train"
   ]
  },
  {
   "cell_type": "code",
   "execution_count": null,
   "metadata": {},
   "outputs": [
    {
     "data": {
      "text/plain": [
       "6"
      ]
     },
     "execution_count": 8,
     "metadata": {},
     "output_type": "execute_result"
    }
   ],
   "source": [
    "import multiprocessing\n",
    "\n",
    "num_procs = multiprocessing.cpu_count() - 2\n",
    "num_procs"
   ]
  },
  {
   "cell_type": "code",
   "execution_count": null,
   "metadata": {},
   "outputs": [
    {
     "name": "stdout",
     "output_type": "stream",
     "text": [
      "extract_tf_features.call.segment=0\n",
      "extract_tf_features.call.segment=525\n",
      "extract_tf_features.call.segment=1050\n",
      "extract_tf_features.call.segment=1575\n",
      "extract_tf_features.call.segment=2100\n",
      "extract_tf_features.call.segment=2625\n"
     ]
    },
    {
     "name": "stderr",
     "output_type": "stream",
     "text": [
      "Feature Extraction:   0%|          | 0/1 [00:00<?, ?it/s]\n",
      "Feature Extraction:   0%|          | 0/1 [00:00<?, ?it/s]\u001b[A\n",
      "\n",
      "Feature Extraction:   0%|          | 0/1 [00:00<?, ?it/s]\u001b[A\u001b[A\n",
      "\n",
      "\n",
      "Feature Extraction:   0%|          | 0/1 [00:00<?, ?it/s]\u001b[A\u001b[A\u001b[A\n",
      "\n",
      "\n",
      "\n",
      "Feature Extraction:   0%|          | 0/1 [00:00<?, ?it/s]\u001b[A\u001b[A\u001b[A\u001b[A\n",
      "\n",
      "\n",
      "\n",
      "\n",
      "Feature Extraction:   0%|          | 0/1 [00:00<?, ?it/s]\u001b[A\u001b[A\u001b[A\u001b[A\u001b[A"
     ]
    }
   ],
   "source": [
    "from multiprocessing.dummy import Pool\n",
    "pool = Pool(num_procs)\n",
    "\n",
    "pool.map(extract_tf_features, [(segment, data.iloc[segment*SEGMENT_ROWS:segment*SEGMENT_ROWS+SEGMENT_ROWS]) for segment in range(segments)])\n",
    "# for segment in tqdm(range(segments)):\n",
    "#     seg = data.iloc[segment*SEGMENT_ROWS:segment*SEGMENT_ROWS+SEGMENT_ROWS]\n",
    "#     x = seg[['id','x']]   # pd series\n",
    "#     y = seg['y'].values[-1]  # single value\n",
    "    \n",
    "#     extracted_features = extract_features(x, column_id='id')\n",
    "    \n",
    "#     X_train = X_train.append(extracted_features)\n",
    "#     y_train.loc[segment, 'y'] = y\n",
    "    \n",
    "#     X_train['y'] = y\n",
    "#     X_train.to_csv(segments_path+str(segment))"
   ]
  },
  {
   "cell_type": "code",
   "execution_count": null,
   "metadata": {},
   "outputs": [],
   "source": [
    "# segments_path = '{cache_dir}{segments_file}'.format(cache_dir=CACHE_DIR,segments_file=SEGMENTS_FILE)\n",
    "\n",
    "# X_train['y']=y_train['y']\n",
    "# X_train.to_csv(segments_path)"
   ]
  }
 ],
 "metadata": {
  "kernelspec": {
   "display_name": "Python 3",
   "language": "python",
   "name": "python3"
  },
  "language_info": {
   "codemirror_mode": {
    "name": "ipython",
    "version": 3
   },
   "file_extension": ".py",
   "mimetype": "text/x-python",
   "name": "python",
   "nbconvert_exporter": "python",
   "pygments_lexer": "ipython3",
   "version": "3.6.4"
  }
 },
 "nbformat": 4,
 "nbformat_minor": 2
}
